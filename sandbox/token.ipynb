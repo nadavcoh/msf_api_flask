{
 "cells": [
  {
   "cell_type": "code",
   "execution_count": null,
   "metadata": {},
   "outputs": [],
   "source": [
    "'auth_time': 1671053376, \n",
    "'exp': 1671056988, }\n",
    "'E9VJExWyevB__li03k'\n",
    "'iat': 1671053388, \n",
    "'iss': 'https://hydra-public.prod.m3.scopelypv.com/', \n",
    "'jti': '30b94189-a017-4173-afab-80ef24112289', \n",
    "'lang': 'en', \n",
    "'nonce': 'TZt4WsHzrs1clYX7WkNB', \n",
    "'rat': 1671053358, \n",
    "'sid': '766accbf-8f6e-4baf-b7b7-7a2e74561b8d', \n",
    "'sub': 'e88b2f5219f7e47803d42d2d4c07fc56be5257ead7a488d6a7b88bd950e1120d'  , \n",
    "'expires_at': 1671654909, \n",
    "'expires_in': 3599, "
   ]
  },
  {
   "cell_type": "code",
   "execution_count": 1,
   "metadata": {},
   "outputs": [],
   "source": [
    "import time"
   ]
  },
  {
   "cell_type": "code",
   "execution_count": 16,
   "metadata": {},
   "outputs": [
    {
     "data": {
      "text/plain": [
       "'Wed Dec 14 21:29:36 2022'"
      ]
     },
     "execution_count": 16,
     "metadata": {},
     "output_type": "execute_result"
    }
   ],
   "source": [
    "time.asctime(time.gmtime(1671053376))\n",
    "\n",
    "\n"
   ]
  },
  {
   "cell_type": "code",
   "execution_count": 8,
   "metadata": {},
   "outputs": [
    {
     "data": {
      "text/plain": [
       "11633871.225905895"
      ]
     },
     "execution_count": 8,
     "metadata": {},
     "output_type": "execute_result"
    }
   ],
   "source": [
    "1682687247.225906 - 1671053376\n",
    "11633871.225905895"
   ]
  }
 ],
 "metadata": {
  "kernelspec": {
   "display_name": "venv",
   "language": "python",
   "name": "python3"
  },
  "language_info": {
   "codemirror_mode": {
    "name": "ipython",
    "version": 3
   },
   "file_extension": ".py",
   "mimetype": "text/x-python",
   "name": "python",
   "nbconvert_exporter": "python",
   "pygments_lexer": "ipython3",
   "version": "3.10.10"
  },
  "orig_nbformat": 4
 },
 "nbformat": 4,
 "nbformat_minor": 2
}
