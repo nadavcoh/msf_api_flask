{
 "cells": [
  {
   "cell_type": "code",
   "execution_count": 31,
   "metadata": {},
   "outputs": [],
   "source": [
    "import pandas as pd"
   ]
  },
  {
   "cell_type": "code",
   "execution_count": 54,
   "metadata": {},
   "outputs": [],
   "source": [
    "df = pd.DataFrame(columns=[\"City\", \"Temp (c)\", \"Rain (mm)\", \"Wind (m/s)\"],\n",
    "                  data=[[\"Stockholm\", \"a\", \"a\", \"a\"],\n",
    "                        [\"Oslo\", \"a\", \"a\", \"a\"],\n",
    "                        [\"Copenhagen\", \"a\", \"a\", \"a\"]])\n",
    "gmap = pd.DataFrame(columns=[\"City\", \"Temp (c)\", \"Rain (mm)\", \"Wind (m/s)\"],\n",
    "                  data=[[1.0, 5.0, 5.0, 3.2],\n",
    "                        [1.0, 22.4, 13.3, 3.1],\n",
    "                        [1.0, 24.5, 0.0, 6.7]])"
   ]
  },
  {
   "cell_type": "code",
   "execution_count": 55,
   "metadata": {},
   "outputs": [
    {
     "data": {
      "text/html": [
       "<style type=\"text/css\">\n",
       "#T_45580_row0_col0, #T_45580_row1_col0, #T_45580_row2_col0 {\n",
       "  background-color: #f9f2f8;\n",
       "  color: #000000;\n",
       "}\n",
       "#T_45580_row0_col1, #T_45580_row0_col2 {\n",
       "  background-color: #dad9ea;\n",
       "  color: #000000;\n",
       "}\n",
       "#T_45580_row0_col3 {\n",
       "  background-color: #ebe6f2;\n",
       "  color: #000000;\n",
       "}\n",
       "#T_45580_row1_col1 {\n",
       "  background-color: #034e7b;\n",
       "  color: #f1f1f1;\n",
       "}\n",
       "#T_45580_row1_col2 {\n",
       "  background-color: #60a1ca;\n",
       "  color: #f1f1f1;\n",
       "}\n",
       "#T_45580_row1_col3 {\n",
       "  background-color: #ece7f2;\n",
       "  color: #000000;\n",
       "}\n",
       "#T_45580_row2_col1 {\n",
       "  background-color: #023858;\n",
       "  color: #f1f1f1;\n",
       "}\n",
       "#T_45580_row2_col2 {\n",
       "  background-color: #fff7fb;\n",
       "  color: #000000;\n",
       "}\n",
       "#T_45580_row2_col3 {\n",
       "  background-color: #c8cde4;\n",
       "  color: #000000;\n",
       "}\n",
       "</style>\n",
       "<table id=\"T_45580\">\n",
       "  <thead>\n",
       "    <tr>\n",
       "      <th class=\"blank level0\" >&nbsp;</th>\n",
       "      <th id=\"T_45580_level0_col0\" class=\"col_heading level0 col0\" >City</th>\n",
       "      <th id=\"T_45580_level0_col1\" class=\"col_heading level0 col1\" >Temp (c)</th>\n",
       "      <th id=\"T_45580_level0_col2\" class=\"col_heading level0 col2\" >Rain (mm)</th>\n",
       "      <th id=\"T_45580_level0_col3\" class=\"col_heading level0 col3\" >Wind (m/s)</th>\n",
       "    </tr>\n",
       "  </thead>\n",
       "  <tbody>\n",
       "    <tr>\n",
       "      <th id=\"T_45580_level0_row0\" class=\"row_heading level0 row0\" >0</th>\n",
       "      <td id=\"T_45580_row0_col0\" class=\"data row0 col0\" >Stockholm</td>\n",
       "      <td id=\"T_45580_row0_col1\" class=\"data row0 col1\" >a</td>\n",
       "      <td id=\"T_45580_row0_col2\" class=\"data row0 col2\" >a</td>\n",
       "      <td id=\"T_45580_row0_col3\" class=\"data row0 col3\" >a</td>\n",
       "    </tr>\n",
       "    <tr>\n",
       "      <th id=\"T_45580_level0_row1\" class=\"row_heading level0 row1\" >1</th>\n",
       "      <td id=\"T_45580_row1_col0\" class=\"data row1 col0\" >Oslo</td>\n",
       "      <td id=\"T_45580_row1_col1\" class=\"data row1 col1\" >a</td>\n",
       "      <td id=\"T_45580_row1_col2\" class=\"data row1 col2\" >a</td>\n",
       "      <td id=\"T_45580_row1_col3\" class=\"data row1 col3\" >a</td>\n",
       "    </tr>\n",
       "    <tr>\n",
       "      <th id=\"T_45580_level0_row2\" class=\"row_heading level0 row2\" >2</th>\n",
       "      <td id=\"T_45580_row2_col0\" class=\"data row2 col0\" >Copenhagen</td>\n",
       "      <td id=\"T_45580_row2_col1\" class=\"data row2 col1\" >a</td>\n",
       "      <td id=\"T_45580_row2_col2\" class=\"data row2 col2\" >a</td>\n",
       "      <td id=\"T_45580_row2_col3\" class=\"data row2 col3\" >a</td>\n",
       "    </tr>\n",
       "  </tbody>\n",
       "</table>\n"
      ],
      "text/plain": [
       "<pandas.io.formats.style.Styler at 0x115e974f0>"
      ]
     },
     "execution_count": 55,
     "metadata": {},
     "output_type": "execute_result"
    }
   ],
   "source": [
    "df.style.background_gradient(axis=None, gmap=gmap, subset=[\"City\", \"Temp (c)\", \"Rain (mm)\", \"Wind (m/s)\"])"
   ]
  },
  {
   "cell_type": "code",
   "execution_count": 47,
   "metadata": {},
   "outputs": [
    {
     "data": {
      "text/plain": [
       "3355443.0"
      ]
     },
     "execution_count": 47,
     "metadata": {},
     "output_type": "execute_result"
    }
   ],
   "source": [
    "float(int(\"333333\",16))"
   ]
  }
 ],
 "metadata": {
  "kernelspec": {
   "display_name": "Python 3.10.8 ('venv': venv)",
   "language": "python",
   "name": "python3"
  },
  "language_info": {
   "codemirror_mode": {
    "name": "ipython",
    "version": 3
   },
   "file_extension": ".py",
   "mimetype": "text/x-python",
   "name": "python",
   "nbconvert_exporter": "python",
   "pygments_lexer": "ipython3",
   "version": "3.10.8"
  },
  "orig_nbformat": 4,
  "vscode": {
   "interpreter": {
    "hash": "dadda72108d96452119e7f33e89bec5ca50bd34e16af8935c09f8c79bf612c2e"
   }
  }
 },
 "nbformat": 4,
 "nbformat_minor": 2
}
