{
 "cells": [
  {
   "cell_type": "markdown",
   "metadata": {},
   "source": [
    "- https://medium.com/geekculture/2-easy-ways-to-read-google-sheets-data-using-python-9e7ef366c775\n",
    "- https://stackoverflow.com/questions/33713084/download-link-for-google-spreadsheets-csv-export-with-multiple-sheets"
   ]
  },
  {
   "cell_type": "code",
   "execution_count": 1,
   "metadata": {},
   "outputs": [],
   "source": [
    "import importlib"
   ]
  },
  {
   "cell_type": "code",
   "execution_count": 2,
   "metadata": {},
   "outputs": [],
   "source": [
    "import pandas as pd\n",
    "import config\n",
    "SHEET_ID = config.MSFTOOLS_SHEETID\n",
    "SHEET_NAME = 'Roster'\n",
    "url = f'https://docs.google.com/spreadsheets/d/{SHEET_ID}/gviz/tq?tqx=out:csv&sheet={SHEET_NAME}'\n",
    "df = pd.read_csv(url)"
   ]
  },
  {
   "cell_type": "code",
   "execution_count": 3,
   "metadata": {},
   "outputs": [],
   "source": [
    "roster = df[['ID','Tier','TopLeft', 'MidLeft', 'BottomLeft', 'TopRight', 'MidRight', 'BottomRight']]"
   ]
  },
  {
   "cell_type": "markdown",
   "metadata": {},
   "source": [
    "- https://divyanshu-raj.medium.com/python-create-a-custom-data-type-765f2e8e4af7\n",
    "- https://stackoverflow.com/questions/38987/how-do-i-merge-two-dictionaries-in-a-single-expression"
   ]
  },
  {
   "cell_type": "code",
   "execution_count": 4,
   "metadata": {},
   "outputs": [
    {
     "data": {
      "text/html": [
       "<div>\n",
       "<style scoped>\n",
       "    .dataframe tbody tr th:only-of-type {\n",
       "        vertical-align: middle;\n",
       "    }\n",
       "\n",
       "    .dataframe tbody tr th {\n",
       "        vertical-align: top;\n",
       "    }\n",
       "\n",
       "    .dataframe thead th {\n",
       "        text-align: right;\n",
       "    }\n",
       "</style>\n",
       "<table border=\"1\" class=\"dataframe\">\n",
       "  <thead>\n",
       "    <tr style=\"text-align: right;\">\n",
       "      <th></th>\n",
       "      <th>ID</th>\n",
       "      <th>Tier</th>\n",
       "      <th>TopLeft</th>\n",
       "      <th>MidLeft</th>\n",
       "      <th>BottomLeft</th>\n",
       "      <th>TopRight</th>\n",
       "      <th>MidRight</th>\n",
       "      <th>BottomRight</th>\n",
       "    </tr>\n",
       "  </thead>\n",
       "  <tbody>\n",
       "    <tr>\n",
       "      <th>81</th>\n",
       "      <td>Punisher</td>\n",
       "      <td>14.0</td>\n",
       "      <td>Y</td>\n",
       "      <td>Y</td>\n",
       "      <td>N</td>\n",
       "      <td>Y</td>\n",
       "      <td>N</td>\n",
       "      <td>Y</td>\n",
       "    </tr>\n",
       "  </tbody>\n",
       "</table>\n",
       "</div>"
      ],
      "text/plain": [
       "          ID  Tier TopLeft MidLeft BottomLeft TopRight MidRight BottomRight\n",
       "81  Punisher  14.0       Y       Y          N        Y        N           Y"
      ]
     },
     "execution_count": 4,
     "metadata": {},
     "output_type": "execute_result"
    }
   ],
   "source": [
    "roster.loc[roster[\"ID\"]==\"Punisher\"]"
   ]
  },
  {
   "cell_type": "code",
   "execution_count": 2,
   "metadata": {},
   "outputs": [
    {
     "name": "stdout",
     "output_type": "stream",
     "text": [
      "Please go to https://hydra-public.prod.m3.scopelypv.com/oauth2/auth?response_type=code&client_id=0e31e793-86c3-40c6-9116-1e9e316299fe&redirect_uri=https%3A%2F%2Flocalhost%3A2705%2Fcallback&scope=m3p.f.pr.pro+m3p.f.pr.ros+m3p.f.pr.inv+m3p.f.pr.act+openid+offline&state=RyCUKlurLQ5IDNMrJ5EocVNUUMJMk3 and authorize access.\n",
      "Connected, gear_hash: ea34772f881e361756f4\n"
     ]
    }
   ],
   "source": [
    "from sandbox_functions import connect_msf_api\n",
    "oauth = connect_msf_api()"
   ]
  },
  {
   "cell_type": "code",
   "execution_count": 3,
   "metadata": {},
   "outputs": [
    {
     "name": "stdout",
     "output_type": "stream",
     "text": [
      "Connected to redis\n"
     ]
    }
   ],
   "source": [
    "from sandbox_functions import redis_connect\n",
    "redis_client = redis_connect()"
   ]
  },
  {
   "cell_type": "code",
   "execution_count": 5,
   "metadata": {},
   "outputs": [
    {
     "data": {
      "text/plain": [
       "{'GEAR_GREEN_SKILL_MAT': 3,\n",
       " 'GEAR_GREEN_FOCUS_MAT': 1,\n",
       " 'GEAR_GREEN_SKILL_MAT_B2': 3,\n",
       " 'SC': 26650,\n",
       " 'GEAR_BLUE_TECH_MAT_BIT': 2,\n",
       " 'GEAR_BLUE_DAMAGE_MAT_BIT': 6,\n",
       " 'GEAR_BLUE_BASIC_CAT': 6,\n",
       " 'GEAR_BLUE_ARMOR_MAT_BIT': 6,\n",
       " 'GEAR_BLUE_SKILL_MAT_BIT': 4,\n",
       " 'GEAR_BLUE_SKILL_MAT_C3': 6,\n",
       " 'GEAR_GREEN_RESIST_MAT': 1,\n",
       " 'GEAR_GREEN_HEALTH_MAT': 1}"
      ]
     },
     "execution_count": 5,
     "metadata": {},
     "output_type": "execute_result"
    }
   ],
   "source": [
    "import sandbox_functions\n",
    "importlib.reload(sandbox_functions)\n",
    "from sandbox_functions import get_tier_cost_base_gear\n",
    "get_tier_cost_base_gear(\"Punisher\",5)"
   ]
  }
 ],
 "metadata": {
  "kernelspec": {
   "display_name": "Python 3.10.7 64-bit",
   "language": "python",
   "name": "python3"
  },
  "language_info": {
   "codemirror_mode": {
    "name": "ipython",
    "version": 3
   },
   "file_extension": ".py",
   "mimetype": "text/x-python",
   "name": "python",
   "nbconvert_exporter": "python",
   "pygments_lexer": "ipython3",
   "version": "3.10.7"
  },
  "orig_nbformat": 4,
  "vscode": {
   "interpreter": {
    "hash": "aee8b7b246df8f9039afb4144a1f6fd8d2ca17a180786b69acc140d282b71a49"
   }
  }
 },
 "nbformat": 4,
 "nbformat_minor": 2
}
