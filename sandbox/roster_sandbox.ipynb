{
 "cells": [
  {
   "cell_type": "code",
   "execution_count": 1,
   "metadata": {},
   "outputs": [],
   "source": [
    "import importlib\n",
    "import sandbox_functions"
   ]
  },
  {
   "cell_type": "markdown",
   "metadata": {},
   "source": [
    "- https://divyanshu-raj.medium.com/python-create-a-custom-data-type-765f2e8e4af7"
   ]
  },
  {
   "cell_type": "code",
   "execution_count": 2,
   "metadata": {},
   "outputs": [
    {
     "name": "stdout",
     "output_type": "stream",
     "text": [
      "Please go to https://hydra-public.prod.m3.scopelypv.com/oauth2/auth?response_type=code&client_id=0e31e793-86c3-40c6-9116-1e9e316299fe&redirect_uri=https%3A%2F%2Flocalhost%3A2705%2Fcallback&scope=m3p.f.pr.pro+m3p.f.pr.ros+m3p.f.pr.inv+m3p.f.pr.act+openid+offline&state=Y7R27fZRkhY5dEnTVSwaum7OHEYRLP and authorize access.\n",
      "Connected, gear_hash: ea34772f881e361756f4\n"
     ]
    }
   ],
   "source": [
    "from sandbox_functions import connect_msf_api\n",
    "oauth = connect_msf_api()"
   ]
  },
  {
   "cell_type": "code",
   "execution_count": 3,
   "metadata": {},
   "outputs": [
    {
     "name": "stdout",
     "output_type": "stream",
     "text": [
      "Connected to redis\n"
     ]
    }
   ],
   "source": [
    "from sandbox_functions import redis_connect\n",
    "redis_client = redis_connect()"
   ]
  },
  {
   "cell_type": "code",
   "execution_count": 6,
   "metadata": {},
   "outputs": [],
   "source": [
    "from sandbox_functions import get_roster\n",
    "roster = get_roster()"
   ]
  },
  {
   "cell_type": "code",
   "execution_count": 20,
   "metadata": {},
   "outputs": [
    {
     "data": {
      "text/plain": [
       "{'data': {'GEAR_ORANGE_SKILL_MAT_BIT': 260,\n",
       "  'GEAR_ORANGE_SKILL_MAT_C2': 130,\n",
       "  'GEAR_ORANGE_SKILL_MAT_C3': 118,\n",
       "  'GEAR_ORANGE_DAMAGE_MAT_BIT': 210,\n",
       "  'GEAR_ORANGE_BASIC_CAT_BIT': 660,\n",
       "  'GEAR_ORANGE_SKILL_MAT_C8': 54,\n",
       "  'GEAR_ORANGE_SKILL_MAT_C6': 54,\n",
       "  'SC': 803000,\n",
       "  'GEAR_ORANGE_ARMOR_MAT_BIT': 210,\n",
       "  'GEAR_ORANGE_FOCUS_MAT_BIT': 120,\n",
       "  'GEAR_TEAL_TECH_MAT_BIT': 120,\n",
       "  'GEAR_TEAL_TECH_MAT_C2': 100,\n",
       "  'GEAR_TEAL_TECH_MAT_C3': 80,\n",
       "  'GEAR_TEAL_DAMAGE_MAT_BIT': 450,\n",
       "  'GEAR_TEAL_EQUIPMENT1': 40,\n",
       "  'GEAR_TEAL_SKILL_MAT_BIT': 300,\n",
       "  'GEAR_TEAL_SKILL_MAT_C2': 250,\n",
       "  'GEAR_TEAL_SKILL_MAT_C3': 200,\n",
       "  'GEAR_TEAL_BASIC_CAT_BIT': 500,\n",
       "  'GEAR_TEAL_SKILL_MAT_C5': 36,\n",
       "  'GEAR_TEAL_SKILL_MAT_C9': 36,\n",
       "  'GEAR_ORANGE_RESIST_MAT_BIT': 120,\n",
       "  'GEAR_TEAL_ARMOR_MAT_BIT': 250,\n",
       "  'GEAR_ORANGE_HEALTH_MAT_BIT': 360,\n",
       "  'GEAR_ORANGE_SKILL_MAT_C1': 6,\n",
       "  'GEAR_ORANGE_SKILL_MAT_C5': 15,\n",
       "  'GEAR_ORANGE_SKILL_MAT_C9': 15,\n",
       "  'GEAR_TEAL_SKILL_MAT_C1': 40,\n",
       "  'GEAR_TEAL_SKILL_MAT_C8': 40},\n",
       " 'meta': {'version': 1,\n",
       "  'hashes': {'events': '5e772bbde0a5f0a3e1bf',\n",
       "   'drops': 'dce518a8a24fdd6d910f',\n",
       "   'locs': '2f90933dba36f46bb72a',\n",
       "   'nodes': 'fcb5866db63cc4e832d8',\n",
       "   'chars': 'ea34772f881e361756f4',\n",
       "   'other': '5f2a683ba8dd83443d97',\n",
       "   'all': '71db951766a806a45e92'}},\n",
       " 'cache': True}"
      ]
     },
     "execution_count": 20,
     "metadata": {},
     "output_type": "execute_result"
    }
   ],
   "source": [
    "importlib.reload(sandbox_functions)\n",
    "from sandbox_functions import get_char_to_tier\n",
    "get_char_to_tier(\"Punisher\",19)"
   ]
  },
  {
   "cell_type": "code",
   "execution_count": null,
   "metadata": {},
   "outputs": [],
   "source": [
    "\n"
   ]
  }
 ],
 "metadata": {
  "kernelspec": {
   "display_name": "Python 3.10.7 64-bit",
   "language": "python",
   "name": "python3"
  },
  "language_info": {
   "codemirror_mode": {
    "name": "ipython",
    "version": 3
   },
   "file_extension": ".py",
   "mimetype": "text/x-python",
   "name": "python",
   "nbconvert_exporter": "python",
   "pygments_lexer": "ipython3",
   "version": "3.10.7"
  },
  "orig_nbformat": 4,
  "vscode": {
   "interpreter": {
    "hash": "aee8b7b246df8f9039afb4144a1f6fd8d2ca17a180786b69acc140d282b71a49"
   }
  }
 },
 "nbformat": 4,
 "nbformat_minor": 2
}
