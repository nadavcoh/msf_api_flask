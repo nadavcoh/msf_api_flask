{
 "cells": [
  {
   "cell_type": "markdown",
   "metadata": {},
   "source": [
    "https://requests-oauthlib.readthedocs.io/en/latest/oauth2_workflow.html#web-application-flow\n",
    "https://hub.marvelstrikeforce.com/en/developer\n",
    "https://developer.marvelstrikeforce.com/beta/index.html"
   ]
  },
  {
   "cell_type": "code",
   "execution_count": null,
   "metadata": {},
   "outputs": [],
   "source": [
    "pip install --upgrade pip"
   ]
  },
  {
   "cell_type": "code",
   "execution_count": null,
   "metadata": {},
   "outputs": [],
   "source": [
    "pip install requests-oauthlib"
   ]
  },
  {
   "cell_type": "code",
   "execution_count": 1,
   "metadata": {},
   "outputs": [],
   "source": [
    "from requests_oauthlib import OAuth2Session\n",
    "import pandas as pd\n",
    "from time import time"
   ]
  },
  {
   "cell_type": "code",
   "execution_count": 2,
   "metadata": {},
   "outputs": [],
   "source": [
    "from instance import config\n",
    "client_id = config.MSF_API_CLIENT_ID\n",
    "client_secret = config.MSF_API_CLIENT_SECRET"
   ]
  },
  {
   "cell_type": "code",
   "execution_count": 3,
   "metadata": {},
   "outputs": [],
   "source": [
    "redirect_uri = 'https://localhost:2705/callback'\n",
    "api_key = r'17wMKJLRxy3pYDCKG5ciP7VSU45OVumB2biCzzgw'\n",
    "api_server = 'https://api.marvelstrikeforce.com'"
   ]
  },
  {
   "cell_type": "code",
   "execution_count": 4,
   "metadata": {},
   "outputs": [
    {
     "name": "stdout",
     "output_type": "stream",
     "text": [
      "Please go to https://hydra-public.prod.m3.scopelypv.com/oauth2/auth?response_type=code&client_id=0e31e793-86c3-40c6-9116-1e9e316299fe&redirect_uri=https%3A%2F%2Flocalhost%3A2705%2Fcallback&scope=m3p.f.pr.pro+m3p.f.pr.inv+m3p.f.pr.act+openid+offline&state=nvlmE6CDNAwbIyYbuqjbe914MSLdNF and authorize access.\n",
      "Connected, gear_hash: 8ccbfe58465a800b55e9\n"
     ]
    }
   ],
   "source": [
    "scope = ['m3p.f.pr.pro' ,\n",
    "         #'m3p.f.pr.ros',\n",
    "         'm3p.f.pr.inv',\n",
    "         'm3p.f.pr.act',\n",
    "         'openid', \n",
    "         'offline'\n",
    "         ]\n",
    "oauth = OAuth2Session(client_id, redirect_uri=redirect_uri,\n",
    "                          scope=scope)\n",
    "oauth.headers.update({'x-api-key' : api_key})\n",
    "authorization_url, state = oauth.authorization_url(\n",
    "        'https://hydra-public.prod.m3.scopelypv.com/oauth2/auth')\n",
    "\n",
    "print ('Please go to %s and authorize access.' % authorization_url)\n",
    "authorization_response = input('Enter the full callback URL')\n",
    "\n",
    "token = oauth.fetch_token(\n",
    "        'https://hydra-public.prod.m3.scopelypv.com/oauth2/token',\n",
    "        authorization_response=authorization_response, client_secret=client_secret)\n",
    "\n",
    "endpoint = \"/game/v1/languages\"\n",
    "params = {\"page\": 1,\n",
    "          \"perPage\": 1}\n",
    "r = oauth.get(api_server + endpoint, params=params)\n",
    "ping = r.json()\n",
    "current_chars_hash = ping[\"meta\"][\"hashes\"][\"chars\"]\n",
    "print(\"Connected, gear_hash: %s\" % current_chars_hash)"
   ]
  },
  {
   "cell_type": "code",
   "execution_count": 5,
   "metadata": {},
   "outputs": [],
   "source": [
    "r = oauth.get(api_server+\"/player/v1/inventory\")\n",
    "r.json()\n",
    "inventory=r.json()"
   ]
  },
  {
   "cell_type": "code",
   "execution_count": null,
   "metadata": {},
   "outputs": [],
   "source": [
    "r = oauth.get(api_server+\"/game/v1/characters\", params={\"charInfo\":\"none\", \"status\" : \"playable\"})\n",
    "characters = r.json()"
   ]
  },
  {
   "cell_type": "code",
   "execution_count": 6,
   "metadata": {},
   "outputs": [],
   "source": [
    "characterId = \"Punisher\"\n",
    "endpoint = \"/game/v1/characters/\" + characterId\n",
    "params = {\"statsFormat\": \"csv\",\n",
    "          \"charInfo\": \"none\",\n",
    "          \"costumes\": \"none\",\n",
    "          \"abilityKits\": \"none\",\n",
    "          \"pieceFlatCost\": \"full\",\n",
    "          \"subPieceInfo\": \"none\"}\n",
    "r = oauth.get(api_server + endpoint, params=params)\n",
    "punisher = r.json()"
   ]
  },
  {
   "cell_type": "code",
   "execution_count": 7,
   "metadata": {},
   "outputs": [],
   "source": [
    "totalCost = {}\n",
    "for tier in punisher[\"data\"][\"gearTiers\"].values():\n",
    "    if (\"slots\" in tier):\n",
    "        for slot in tier[\"slots\"]:\n",
    "            if (\"flatCost\" in slot[\"piece\"]):\n",
    "                for item in slot[\"piece\"][\"flatCost\"]:\n",
    "                    #print(\"%s - %s\" % (item[\"item\"][\"id\"], item[\"quantity\"]))\n",
    "                    if (item[\"item\"][\"id\"] in totalCost):\n",
    "                        totalCost[item[\"item\"][\"id\"]] += item[\"quantity\"]\n",
    "                    else:\n",
    "                        totalCost[item[\"item\"][\"id\"]] = item[\"quantity\"]\n",
    "            else:\n",
    "                #print(\"%s - 1\" % slot[\"piece\"][\"id\"])\n",
    "                if (slot[\"piece\"][\"id\"] in totalCost):\n",
    "                        totalCost[slot[\"piece\"][\"id\"]] += 1\n",
    "                else:\n",
    "                    totalCost[slot[\"piece\"][\"id\"]] = 1"
   ]
  },
  {
   "cell_type": "code",
   "execution_count": 27,
   "metadata": {},
   "outputs": [],
   "source": [
    "def get_flat_cost (gear_id: str) -> dict:\n",
    "    totalFlatCost = {}\n",
    "    gear = get_gear(gear_id)['data']\n",
    "    if (\"flatCost\" in gear):\n",
    "        for item in gear[\"flatCost\"]:\n",
    "            if (item[\"item\"][\"id\"] in totalFlatCost):\n",
    "                totalFlatCost[item[\"item\"][\"id\"]] += item[\"quantity\"]\n",
    "            else:\n",
    "                totalFlatCost[item[\"item\"][\"id\"]] = item[\"quantity\"]\n",
    "    return totalFlatCost"
   ]
  },
  {
   "cell_type": "code",
   "execution_count": 28,
   "metadata": {},
   "outputs": [
    {
     "data": {
      "text/plain": [
       "{'GEAR_GREEN_DAMAGE_MAT': 1, 'GEAR_GREEN_FOCUS_MAT': 1}"
      ]
     },
     "execution_count": 28,
     "metadata": {},
     "output_type": "execute_result"
    }
   ],
   "source": [
    "get_flat_cost(\"GEAR_T1_PUNISHER\")"
   ]
  },
  {
   "cell_type": "code",
   "execution_count": 8,
   "metadata": {},
   "outputs": [],
   "source": [
    "totalDirectCost = {}\n",
    "for tier in punisher[\"data\"][\"gearTiers\"].values():\n",
    "    if (\"slots\" in tier):\n",
    "        for slot in tier[\"slots\"]:\n",
    "            if (\"flatCost\" in slot[\"piece\"]):\n",
    "                if (slot[\"piece\"][\"id\"] in totalDirectCost):\n",
    "                        totalDirectCost[slot[\"piece\"][\"id\"]] += 1\n",
    "                else:\n",
    "                    totalDirectCost[slot[\"piece\"][\"id\"]] = 1"
   ]
  },
  {
   "cell_type": "code",
   "execution_count": 9,
   "metadata": {},
   "outputs": [],
   "source": [
    "def get_direct_cost(gear: dict, quantity: int):\n",
    "    if \"directCost\" in gear[\"item\"]:\n",
    "        if (gear[\"item\"][\"id\"] in recursiveDirectCost):\n",
    "            recursiveDirectCost[gear[\"item\"][\"id\"]] += gear[\"quantity\"] * quantity\n",
    "        else:\n",
    "            recursiveDirectCost[gear[\"item\"][\"id\"]] = gear[\"quantity\"] * quantity\n",
    "        for piece in gear[\"item\"][\"directCost\"]:\n",
    "            get_direct_cost(piece, gear[\"quantity\"])"
   ]
  },
  {
   "cell_type": "code",
   "execution_count": 100,
   "metadata": {},
   "outputs": [],
   "source": [
    "recursiveDirectCost = {}\n",
    "for (current_gear_id, quantity) in totalDirectCost.items():\n",
    "    current_gear = get_gear(current_gear_id)\n",
    "    for piece in current_gear[\"data\"][\"directCost\"]:\n",
    "        get_direct_cost(piece, quantity)"
   ]
  },
  {
   "cell_type": "code",
   "execution_count": null,
   "metadata": {},
   "outputs": [],
   "source": [
    "totalCost"
   ]
  },
  {
   "cell_type": "code",
   "execution_count": null,
   "metadata": {},
   "outputs": [],
   "source": [
    "totalDirectCost"
   ]
  },
  {
   "cell_type": "code",
   "execution_count": null,
   "metadata": {},
   "outputs": [],
   "source": [
    "recursiveDirectCost"
   ]
  },
  {
   "cell_type": "code",
   "execution_count": null,
   "metadata": {},
   "outputs": [],
   "source": [
    "json.dumps(inventory)"
   ]
  },
  {
   "cell_type": "code",
   "execution_count": 72,
   "metadata": {},
   "outputs": [],
   "source": [
    "def find_in_inventory(cost: dict) -> list:\n",
    "    costInv = []\n",
    "    for currentItem in cost:\n",
    "        currentCost = [inventoryItem[\"quantity\"] for inventoryItem in inventory[\"data\"] if currentItem == inventoryItem[\"item\"]]\n",
    "        if (len(currentCost) == 0):\n",
    "            currentCost = [0]\n",
    "        costInv.extend(currentCost)\n",
    "    cost_array = pd.DataFrame(list(cost.items()))\n",
    "    cost_array.columns = [\"Name\", \"Needed\"]\n",
    "    cost_array.insert(2, \"Inventory\", costInv)\n",
    "    return cost_array"
   ]
  },
  {
   "cell_type": "code",
   "execution_count": 81,
   "metadata": {},
   "outputs": [],
   "source": [
    "totalCostInv = find_in_inventory(totalCost)\n",
    "totalRecursiveDirectCostInv = find_in_inventory(totalDirectCost | recursiveDirectCost)"
   ]
  },
  {
   "cell_type": "code",
   "execution_count": 85,
   "metadata": {},
   "outputs": [],
   "source": [
    "crafted_gear = totalRecursiveDirectCostInv.loc[totalRecursiveDirectCostInv[\"Inventory\"] > 0]"
   ]
  },
  {
   "cell_type": "code",
   "execution_count": null,
   "metadata": {},
   "outputs": [],
   "source": [
    "for index, gear in crafted_gear.iterrows():\n",
    "    print(get_flat_cost(gear[\"Name\"]))\n",
    "    print(min(gear[\"Needed\"], gear[\"Inventory\"]))"
   ]
  },
  {
   "cell_type": "code",
   "execution_count": 84,
   "metadata": {},
   "outputs": [
    {
     "name": "stdout",
     "output_type": "stream",
     "text": [
      "(66, 3)\n"
     ]
    }
   ],
   "source": [
    "print (totalCostInv.shape)\n"
   ]
  },
  {
   "cell_type": "code",
   "execution_count": 4,
   "metadata": {},
   "outputs": [],
   "source": [
    "import numpy as np\n",
    "import pandas as pd\n",
    "import csv"
   ]
  },
  {
   "cell_type": "code",
   "execution_count": 18,
   "metadata": {},
   "outputs": [],
   "source": [
    "with open('some.csv', 'w', newline='') as f:\n",
    "    writer = csv.writer(f)\n",
    "    writer.writerows(totalCostInv)\n",
    "    writer.writerow(['totalDirectCostInv'])\n",
    "    writer.writerows(totalDirectCostInv)\n",
    "    writer.writerow([\"recursiveDirectCostInv\"])\n",
    "    writer.writerows(recursiveDirectCostInv)"
   ]
  },
  {
   "cell_type": "markdown",
   "metadata": {},
   "source": [
    "https://rednafi.github.io/digressions/python/database/2020/05/25/python-redis-cache.html#getting-route-data-from-mapbox-api\n",
    "redis-stack-server"
   ]
  },
  {
   "cell_type": "code",
   "execution_count": null,
   "metadata": {},
   "outputs": [],
   "source": [
    "pip install redis"
   ]
  },
  {
   "cell_type": "code",
   "execution_count": 4,
   "metadata": {},
   "outputs": [],
   "source": [
    "import json\n",
    "import sys\n",
    "from datetime import timedelta\n",
    "import redis"
   ]
  },
  {
   "cell_type": "code",
   "execution_count": 10,
   "metadata": {},
   "outputs": [],
   "source": [
    "def redis_connect() -> redis.client.Redis:\n",
    "    try:\n",
    "        client = redis.Redis(\n",
    "            host=\"localhost\",\n",
    "            port=6379,\n",
    "#            password=\"ubuntu\",\n",
    "            db=0,\n",
    "            socket_timeout=5,\n",
    "        )\n",
    "        ping = client.ping()\n",
    "        if ping is True:\n",
    "            return client\n",
    "    except redis.AuthenticationError:\n",
    "        print(\"AuthenticationError\")\n",
    "        sys.exit(1)\n",
    "\n",
    "redis_client = redis_connect()\n",
    "\n",
    "def check_hash():\n",
    "    return\n",
    "    \"\"\"cache_hash = redis_client.get(\"char_hash\").decode()\n",
    "    if cache_hash != current_chars_hash:\n",
    "        print(\"Hash mismathch: %s %s\", (cache_hash, current_chars_hash))\n",
    "        redis_client.flushdb()\n",
    "        redis_client.set(\"char_hash\", current_chars_hash)\"\"\"\n",
    "#check_hash()\n",
    "\n",
    "def get_gear_from_api(gear_id: str) -> dict:\n",
    "    \"\"\"Data from api\"\"\"\n",
    "\n",
    "    endpoint = \"/game/v1/items/\" + gear_id\n",
    "    params = {\"statsFormat\": \"csv\",\n",
    "            #  \"pieceInfo\": \"none\",\n",
    "              \"pieceDirectCost\": \"full\",\n",
    "              \"pieceFlatCost\": \"full\",\n",
    "              \"subPieceInfo\": \"none\"}\n",
    "    r = oauth.get(api_server + endpoint, params=params)\n",
    "    data = r.json()\n",
    "    #if (current_chars_hash != data[\"meta\"][\"hashes\"][\"chars\"]):\n",
    "    current_chars_hash = data[\"meta\"][\"hashes\"][\"chars\"]\n",
    "    check_hash()\n",
    "    return data\n",
    "\n",
    "def get_data_from_cache(key: str) -> str:\n",
    "    \"\"\"Data from redis.\"\"\"\n",
    "    \n",
    "    val = redis_client.get(key)\n",
    "    if val is not None:\n",
    "        val = json.loads(val)\n",
    "        val[\"cache\"] = True\n",
    "        return val\n",
    "    else:\n",
    "        return (val)\n",
    "\n",
    "def set_data_to_cache(key: str, value: str) -> bool:\n",
    "    \"\"\"Data to redis.\"\"\"\n",
    "\n",
    "    state = redis_client.set(key, value=json.dumps(value))\n",
    "    return state\n",
    "\n",
    "def get_gear(gear: str) -> dict:\n",
    "\n",
    "    # First it looks for the data in redis cache\n",
    "    data = get_data_from_cache(key=gear)\n",
    "\n",
    "    # If cache is found then serves the data from cache\n",
    "    if data is not None:\n",
    "        return data\n",
    "\n",
    "    else:\n",
    "        # If cache is not found then sends request to the MapBox API\n",
    "        data = get_gear_from_api(gear)\n",
    "        # This block sets saves the respose to redis and serves it directly\n",
    "        data[\"cache\"] = False\n",
    "        state = set_data_to_cache(key=gear, value=data)\n",
    "        return data"
   ]
  },
  {
   "cell_type": "code",
   "execution_count": 11,
   "metadata": {},
   "outputs": [],
   "source": [
    "check_hash()"
   ]
  },
  {
   "cell_type": "code",
   "execution_count": 44,
   "metadata": {},
   "outputs": [
    {
     "data": {
      "text/plain": [
       "5715000"
      ]
     },
     "execution_count": 44,
     "metadata": {},
     "output_type": "execute_result"
    }
   ],
   "source": [
    "endpoint = \"/player/v1/events\"\n",
    "params = {\"statsFormat\": \"csv\",\n",
    "          \"itemFormat\": \"id\",\n",
    "          \"traitFormat\": \"id\",\n",
    "          \"type\": \"milestone\",\n",
    "          \"objRewards\": \"full\",\n",
    "          \"pieceInfo\": \"none\"}\n",
    "r = oauth.get(api_server + endpoint, params=params)\n",
    "events = r.json()\n",
    "current_time = time()\n",
    "current_gold_milestone = [event for event in events[\"data\"] if event[\"name\"] == \"Golden Opportunity\" and event[\"startTime\"] < current_time and event[\"endTime\"] > current_time][0][\"milestone\"]\n",
    "current_gold_milestone_points = current_gold_milestone[\"brackets\"][0][\"objective\"][\"progress\"][\"points\"]\n",
    "current_gold_milestone_goal = current_gold_milestone[\"brackets\"][0][\"objective\"][\"tiers\"][str(max([int(x) for x in current_gold_milestone[\"brackets\"][0][\"objective\"][\"tiers\"].keys()]))][\"goal\"]\n",
    "current_gold_milestone_delta = current_gold_milestone_goal - current_gold_milestone_points\n",
    "current_gold_milestone_delta"
   ]
  },
  {
   "cell_type": "code",
   "execution_count": 7,
   "metadata": {},
   "outputs": [],
   "source": [
    "def get_campaigns_from_api() -> dict:\n",
    "    \"\"\"Data from api\"\"\"\n",
    "\n",
    "    endpoint = \"/game/v1/episodics/\" + \"campaign\"\n",
    "    params = {\"statsFormat\": \"csv\",\n",
    "          \"itemFormat\": \"id\",\n",
    "          \"traitFormat\": \"id\"}\n",
    "    r = oauth.get(api_server + endpoint, params=params)\n",
    "    data = r.json()\n",
    "\n",
    "    #if (current_chars_hash != data[\"meta\"][\"hashes\"][\"chars\"]):\n",
    "    current_nodes_hash = data[\"meta\"][\"hashes\"][\"nodes\"]\n",
    "    check_hash()\n",
    "    return data\n",
    "\n",
    "def get_campaigns() -> dict:\n",
    "\n",
    "    # First it looks for the data in redis cache\n",
    "    data = get_data_from_cache(key=\"nodes_campaigns\")\n",
    "\n",
    "    # If cache is found then serves the data from cache\n",
    "    if data is not None:\n",
    "        return data\n",
    "    else:\n",
    "        # If cache is not found then sends request to the MapBox API\n",
    "        data = get_campaigns_from_api()\n",
    "        # This block sets saves the respose to redis and serves it directly\n",
    "        data[\"cache\"] = False\n",
    "        state = set_data_to_cache(key=\"nodes_campaign\", value=data)\n",
    "        return data\n",
    "\n",
    "def get_campaign_names() -> dict:\n",
    "\n",
    "    # First it looks for the data in redis cache\n",
    "    data = get_data_from_cache(key=\"nodes_campaign_names\")\n",
    "\n",
    "    # If cache is found then serves the data from cache\n",
    "    if data is not None:\n",
    "        return data\n",
    "    else:\n",
    "        # If cache is not found then sends request to the MapBox API\n",
    "        campaigns = get_campaigns()\n",
    "        # This block sets saves the respose to redis and serves it directly\n",
    "        campaign_ids = [current_campaign[\"id\"] for current_campaign in campaigns[\"data\"]]\n",
    "        data = {\"data\": campaign_ids, \"meta\": campaigns[\"meta\"]}\n",
    "        data[\"cache\"] = False\n",
    "        state = set_data_to_cache(key=\"nodes_campaign_names\", value=data)\n",
    "        return data"
   ]
  },
  {
   "cell_type": "code",
   "execution_count": 8,
   "metadata": {},
   "outputs": [],
   "source": [
    "def get_campaign_from_api(campaign_name: str) -> dict:\n",
    "    \"\"\"Data from api\"\"\"\n",
    "    endpoint = \"/game/v1/episodics/\" + \"campaign\" + \"/\" + campaign_name\n",
    "    params = {\"statsFormat\": \"csv\",\n",
    "              \"itemFormat\": \"id\",\n",
    "              \"traitFormat\": \"id\",\n",
    "              \"nodeInfo\": \"part\",\n",
    "              \"nodeRewards\": \"full\",\n",
    "              \"pieceInfo\": \"none\"}\n",
    "    r = oauth.get(api_server + endpoint, params=params)\n",
    "    data = r.json()\n",
    "\n",
    "    #if (current_chars_hash != data[\"meta\"][\"hashes\"][\"chars\"]):\n",
    "    current_nodes_hash = data[\"meta\"][\"hashes\"][\"nodes\"]\n",
    "    check_hash()\n",
    "    return data\n",
    "\n",
    "def get_campaign(campaign_name: str) -> dict:\n",
    "\n",
    "    # First it looks for the data in redis cache\n",
    "    data = get_data_from_cache(key=\"nodes_\" + campaign_name)\n",
    "\n",
    "    # If cache is found then serves the data from cache\n",
    "    if data is not None:\n",
    "        return data\n",
    "    else:\n",
    "        # If cache is not found then sends request to the MapBox API\n",
    "        data = get_campaign_from_api(campaign_name)\n",
    "        # This block sets saves the respose to redis and serves it directly\n",
    "        data[\"cache\"] = False\n",
    "        state = set_data_to_cache(key=\"nodes_\" + campaign_name, value=data)\n",
    "        return data"
   ]
  },
  {
   "cell_type": "code",
   "execution_count": 12,
   "metadata": {},
   "outputs": [
    {
     "data": {
      "text/plain": [
       "['VILLAINS_CAMPAIGN',\n",
       " 'NEXUS_CAMPAIGN',\n",
       " 'COSMIC_CAMPAIGN',\n",
       " 'MYSTIC_CAMPAIGN',\n",
       " 'HEROES_CAMPAIGN',\n",
       " 'DOOM_CAMPAIGN',\n",
       " 'ISO8_CAMPAIGN']"
      ]
     },
     "execution_count": 12,
     "metadata": {},
     "output_type": "execute_result"
    }
   ],
   "source": [
    "get_campaign_names()[\"data\"]"
   ]
  },
  {
   "cell_type": "code",
   "execution_count": 17,
   "metadata": {},
   "outputs": [],
   "source": [
    "all_rewards_by_id = {}\n",
    "for current_campaign_name in get_campaign_names()[\"data\"]:\n",
    "    current_campaign = get_campaign(current_campaign_name)\n",
    "    for current_chapter_num, current_chapter_data in current_campaign[\"data\"][\"chapters\"].items():\n",
    "        for current_tier_num, current_tier_data in current_chapter_data[\"tiers\"].items():\n",
    "            for current_reward_group in current_tier_data[\"rewards\"][\"allOf\"]:\n",
    "                for current_reward_group_key, current_reward_group_value in current_reward_group.items():\n",
    "                    match current_reward_group_key:\n",
    "                        case \"item\":\n",
    "                            if (current_reward_group_value != \"SC\" and current_reward_group_value != \"XP\"):\n",
    "                                #print (current_reward_group_value)\n",
    "                                reward = [{\"campaign_id\": current_campaign_name, \"chapter\": current_chapter_num, \"tier\": current_tier_num}]\n",
    "                                if (current_reward_group_value not in all_rewards_by_id):\n",
    "                                    all_rewards_by_id[current_reward_group_value] = reward\n",
    "                                else:\n",
    "                                    all_rewards_by_id[current_reward_group_value].append(reward)\n",
    "                            \"\"\n",
    "                        case \"chanceOf\":\n",
    "                            for current_reward_group_key_chahnceof, current_reward_group_value_chanceof in current_reward_group_value.items():\n",
    "                                match current_reward_group_key_chahnceof:\n",
    "                                    case \"item\":\n",
    "                                        if (current_reward_group_value_chanceof != \"SC\" and current_reward_group_value_chanceof != \"XP\"):\n",
    "                                            #print (current_reward_group_value_chanceof)\n",
    "                                            reward = [{\"campaign_id\": current_campaign_name, \"chapter\": current_chapter_num, \"tier\": current_tier_num}]\n",
    "                                            if (current_reward_group_value_chanceof not in all_rewards_by_id):\n",
    "                                                all_rewards_by_id[current_reward_group_value_chanceof] = reward\n",
    "                                            else:\n",
    "                                                all_rewards_by_id[current_reward_group_value_chanceof].append(reward)\n",
    "                                        \"\"\n",
    "                                    case \"quantity\":\n",
    "                                        \"\"\n",
    "                                    case _:\n",
    "                                        print (current_reward_group_key_chahnceof)\n",
    "                        case \"quantity\":\n",
    "                            \"\"\n",
    "                        case _:\n",
    "                            print (current_reward_group_key)\n",
    "                        "
   ]
  },
  {
   "cell_type": "code",
   "execution_count": 18,
   "metadata": {},
   "outputs": [],
   "source": [
    "with open('all_rewards_by_id.json', 'w') as f:\n",
    "    json.dump(all_rewards_by_id, f)"
   ]
  },
  {
   "cell_type": "code",
   "execution_count": null,
   "metadata": {},
   "outputs": [],
   "source": [
    "json.dumps(list(all_rewards_by_id.keys()))"
   ]
  }
 ],
 "metadata": {
  "kernelspec": {
   "display_name": "Python 3",
   "language": "python",
   "name": "python3"
  },
  "language_info": {
   "codemirror_mode": {
    "name": "ipython",
    "version": 3
   },
   "file_extension": ".py",
   "mimetype": "text/x-python",
   "name": "python",
   "nbconvert_exporter": "python",
   "pygments_lexer": "ipython3",
   "version": "3.10.8"
  },
  "orig_nbformat": 4,
  "vscode": {
   "interpreter": {
    "hash": "aee8b7b246df8f9039afb4144a1f6fd8d2ca17a180786b69acc140d282b71a49"
   }
  }
 },
 "nbformat": 4,
 "nbformat_minor": 2
}
